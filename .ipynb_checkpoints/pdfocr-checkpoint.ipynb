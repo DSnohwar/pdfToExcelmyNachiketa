{
 "cells": [
  {
   "cell_type": "code",
   "execution_count": 1,
   "id": "35ab2e21",
   "metadata": {},
   "outputs": [],
   "source": [
    "import pandas as pd\n",
    "import requests\n",
    "from PIL import Image\n",
    "from io import BytesIO\n",
    "import easyocr\n",
    "import numpy as np\n",
    "import cv2\n",
    "import fitz  # PyMuPDF for PDF handling\n",
    "import os\n",
    "import matplotlib.pyplot as plt\n",
    "from transformers import pipeline"
   ]
  },
  {
   "cell_type": "code",
   "execution_count": 2,
   "id": "65368d23",
   "metadata": {},
   "outputs": [
    {
     "name": "stderr",
     "output_type": "stream",
     "text": [
      "Neither CUDA nor MPS are available - defaulting to CPU. Note: This module is much faster with a GPU.\n"
     ]
    }
   ],
   "source": [
    "reader = easyocr.Reader(['en'])  # Specify language(s) for OCR analysis"
   ]
  },
  {
   "cell_type": "code",
   "execution_count": 3,
   "id": "89f934a8",
   "metadata": {},
   "outputs": [],
   "source": [
    "output_folder = r\"C:\\\\Users\\\\Dips\\\\Desktop\\\\myNachiketa\\\\Temporary pdf images\"\n",
    "\n",
    "def process_folder(output_folder):\n",
    "    # List all files in the output folder\n",
    "    image_files = os.listdir(output_folder)\n",
    "    combined_recognized_texts = []\n",
    "\n",
    "    for image_file in image_files:\n",
    "        image_path = os.path.join(output_folder, image_file)\n",
    "\n",
    "        # Check if the file is an image\n",
    "        if image_file.endswith(('.jpg', '.jpeg', '.png', '.bmp')):\n",
    "            # Perform operations only if the file is an image\n",
    "            with Image.open(image_path) as image:\n",
    "                preprocessed_image = preprocess_image(image)\n",
    "                ocr_result, image = detect_text_orientation(preprocessed_image)\n",
    "                \n",
    "                if isinstance(image, np.ndarray):\n",
    "                    # Convert the image data to a PIL Image object\n",
    "                    image_pil = Image.fromarray(image)\n",
    "                else:\n",
    "                    # If the image data is already a PIL Image object, use it directly\n",
    "                    image_pil = image\n",
    "                \n",
    "                # Check if ocr_result contains any bounding boxes\n",
    "                if not ocr_result:\n",
    "                    print(\"No bounding boxes detected for:\", image_file)\n",
    "                    continue  # Skip further processing for this image\n",
    "\n",
    "                # Group words into lines\n",
    "                bounding_into_lines = groupIntoLines(ocr_result)\n",
    "\n",
    "                # Display image with line boxes\n",
    "                display_image_with_line_boxes(image_pil, bounding_into_lines)\n",
    "\n",
    "                # Extract ROIs from the image based on bounding boxes of lines\n",
    "                rois = extract_rois(image_pil, bounding_into_lines)\n",
    "\n",
    "                # Perform text recognition on the ROIs\n",
    "                recognized_texts = recognize_text(rois)\n",
    "                print(\"Recognized text before adding is-\",recognized_texts)\n",
    "\n",
    "                # Accumulate recognized text from each image\n",
    "                combined_recognized_texts.extend(recognized_texts)\n",
    "\n",
    "            # Delete the processed image\n",
    "            os.remove(image_path)\n",
    "            print(f\"Deleted {image_file}\")\n",
    "\n",
    "#     # Combine recognized text from all images\n",
    "#     combined_text = ' '.join(combined_recognized_texts)\n",
    "    return combined_recognized_texts"
   ]
  },
  {
   "cell_type": "code",
   "execution_count": 4,
   "id": "02554021",
   "metadata": {},
   "outputs": [],
   "source": [
    "from pdf2image import convert_from_path, convert_from_bytes\n",
    "from pdf2image.exceptions import (\n",
    "    PDFInfoNotInstalledError,\n",
    "    PDFPageCountError,\n",
    "    PDFSyntaxError\n",
    ")"
   ]
  },
  {
   "cell_type": "code",
   "execution_count": 5,
   "id": "09f55720",
   "metadata": {},
   "outputs": [],
   "source": [
    "# images = convert_from_path('/home/belval/example.pdf')"
   ]
  },
  {
   "cell_type": "code",
   "execution_count": null,
   "id": "1f134a9c",
   "metadata": {},
   "outputs": [],
   "source": []
  }
 ],
 "metadata": {
  "kernelspec": {
   "display_name": "Python 3 (ipykernel)",
   "language": "python",
   "name": "python3"
  },
  "language_info": {
   "codemirror_mode": {
    "name": "ipython",
    "version": 3
   },
   "file_extension": ".py",
   "mimetype": "text/x-python",
   "name": "python",
   "nbconvert_exporter": "python",
   "pygments_lexer": "ipython3",
   "version": "3.9.13"
  }
 },
 "nbformat": 4,
 "nbformat_minor": 5
}
